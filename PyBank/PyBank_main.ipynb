{
 "cells": [
  {
   "cell_type": "code",
   "execution_count": 1,
   "id": "0cb76356",
   "metadata": {},
   "outputs": [
    {
     "name": "stdout",
     "output_type": "stream",
     "text": [
      "Financial Analysis\n",
      "----------------------------\n",
      "Total Months: 86\n",
      "Total: $22564198\n",
      "Average Change: $-8311.11\n",
      "Greatest Increase in Profits: Aug-16 ($1862002)\n",
      "Greatest Decrease in Profits: Feb-14 ($-1825558)\n"
     ]
    }
   ],
   "source": [
    "import os\n",
    "import csv\n",
    "\n",
    "budget_csv = os.path.join(\".\", \"Resources\", \"budget_data.csv\")\n",
    "\n",
    "#Create a list to store values\n",
    "months_total = []\n",
    "total = []\n",
    "money = []\n",
    "sum = 0\n",
    "sum_change = 0\n",
    "\n",
    "# Open and read csv\n",
    "with open(budget_csv) as csv_file:\n",
    "    csv_reader = csv.reader(csv_file, delimiter=\",\")\n",
    "\n",
    "    # Read the header row first \n",
    "    csv_header = next(csv_file)\n",
    "\n",
    "    # Read through each row of data after the header\n",
    "    for row in csv_reader:       \n",
    "#The total number of months included in the dataset\n",
    "        months_total.append(row[0])\n",
    "#Array generation to calculate profit/losses and stats later\n",
    "        total.append(int(row[1]))\n",
    "#The net total amount of \"Profit/Losses\" over the entire period\n",
    "        sum = sum + int(row[1])\n",
    "\n",
    "#The changes in \"Profit/Losses\" over the entire period, and then the average of those changes\n",
    "for i in range (len(total)-1):\n",
    "    money.append(total[i+1]-total[i])\n",
    "    sum_change = total[i+1]-total[i] + sum_change\n",
    "change = round(sum_change/len(money),2)\n",
    "\n",
    "\n",
    "#The greatest increase in profits (date and amount) over the entire period\n",
    "max_increase = max(money)\n",
    "for i, j in enumerate(money):\n",
    "    if j == max_increase:\n",
    "        max_increase_month = months_total[i+1]\n",
    "\n",
    "#The greatest decrease in profits (date and amount) over the entire period\n",
    "max_decrease = min(money)\n",
    "max_decrease\n",
    "for i, j in enumerate(money):\n",
    "    if j == max_decrease:\n",
    "        max_decrease_month = months_total[i+1]\n",
    "\n",
    "print(\"Financial Analysis\")\n",
    "print(\"----------------------------\")\n",
    "print(f'Total Months: {len(months_total)}')\n",
    "print(f'Total: ${sum}')\n",
    "print(f'Average Change: ${change}')\n",
    "print(f'Greatest Increase in Profits: {max_increase_month} (${max_increase})')\n",
    "print(f'Greatest Decrease in Profits: {max_decrease_month} (${max_decrease})')"
   ]
  },
  {
   "cell_type": "code",
   "execution_count": 2,
   "id": "2ff921ee",
   "metadata": {},
   "outputs": [],
   "source": [
    "#Save file\n",
    "with open('pybank_summary.txt', 'w') as f:\n",
    "    f.write(\"Financial Analysis\\n\"\n",
    "    \"----------------------------\\n\"\n",
    "    f'Total Months: {len(months_total)}\\n'\n",
    "    f'Total: ${sum}\\n'\n",
    "    f'Average Change: ${change}\\n'\n",
    "    f'Greatest Increase in Profits: {max_increase_month} (${max_increase})\\n'\n",
    "    f'Greatest Decrease in Profits: {max_decrease_month} (${max_decrease})\\n')\n"
   ]
  },
  {
   "cell_type": "code",
   "execution_count": null,
   "id": "f578a3ce",
   "metadata": {},
   "outputs": [],
   "source": []
  }
 ],
 "metadata": {
  "kernelspec": {
   "display_name": "Python 3 (ipykernel)",
   "language": "python",
   "name": "python3"
  },
  "language_info": {
   "codemirror_mode": {
    "name": "ipython",
    "version": 3
   },
   "file_extension": ".py",
   "mimetype": "text/x-python",
   "name": "python",
   "nbconvert_exporter": "python",
   "pygments_lexer": "ipython3",
   "version": "3.11.4"
  }
 },
 "nbformat": 4,
 "nbformat_minor": 5
}
