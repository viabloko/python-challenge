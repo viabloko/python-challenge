{
 "cells": [
  {
   "cell_type": "code",
   "execution_count": 23,
   "id": "328268f4",
   "metadata": {},
   "outputs": [
    {
     "name": "stdout",
     "output_type": "stream",
     "text": [
      "<_csv.reader object at 0x0000028542CCA320>\n",
      "['Ballot ID', 'County', 'Candidate']\n",
      "Election Results\n",
      "-------------------------\n",
      "Total Votes: 369711\n",
      "-------------------------\n",
      "Charles Casper Stockham: 23.049% (85213)\n",
      "Diana DeGette: 73.812% (272892)\n",
      "Raymon Anthony Doane: 3.139% (11606\n",
      "-------------------------\n",
      "Winner: Diana DeGette\n",
      "-------------------------\n"
     ]
    }
   ],
   "source": [
    "import os\n",
    "import csv\n",
    "import pandas as pd\n",
    "\n",
    "#Set variables\n",
    "total_votes = 0\n",
    "Charles = 0\n",
    "Diana = 0\n",
    "Raymon = 0\n",
    "\n",
    "# Open and read csv\n",
    "csvpath = os.path.join('.', 'Resources', 'election_data.csv')\n",
    "\n",
    "with open(csvpath) as csvfile:\n",
    "# CSV reader specifies delimiter and variable that holds contents\n",
    "    csvreader = csv.reader(csvfile, delimiter = ',')\n",
    "    print(csvreader)\n",
    "    csv_header = next(csvreader)\n",
    "    print(csv_header)\n",
    "    \n",
    "# Read each row of data after the header\n",
    "    for row in csvreader:\n",
    "        total_votes = total_votes + 1\n",
    "        if row[2] == 'Charles Casper Stockham':\n",
    "            Charles = Charles + 1\n",
    "        elif row[2] == 'Diana DeGette':\n",
    "            Diana = Diana + 1\n",
    "        elif row[2] == 'Raymon Anthony Doane':\n",
    "            Raymon = Raymon + 1\n",
    "\n",
    "#The percentage of votes\n",
    "Charles_percent = round(Charles * 100/ total_votes,3)\n",
    "Diana_percent = round(Diana * 100/ total_votes,3)\n",
    "Raymon_percent = round(Raymon * 100/ total_votes,3)\n",
    "\n",
    "#Create DataFrame and sort by descending to determine the winner\n",
    "data = {'Candidates': ['Charles Casper Stockham', 'Diana DeGette', 'Raymon Anthony Doane'], \n",
    "       'Votes': [Charles, Diana, Raymon]}\n",
    "\n",
    "df = pd.DataFrame(data)\n",
    "winner = df.sort_values(by='Votes', ignore_index=True, ascending=False)\n",
    "winner = winner['Candidates'][0]\n",
    "\n",
    "# Print results\n",
    "print(\"Election Results\")\n",
    "print(\"-------------------------\")\n",
    "print(f'Total Votes: {total_votes}')\n",
    "print(\"-------------------------\")\n",
    "print(f'Charles Casper Stockham: {Charles_percent}% ({Charles})')\n",
    "print(f'Diana DeGette: {Diana_percent}% ({Diana})')\n",
    "print(f'Raymon Anthony Doane: {Raymon_percent}% ({Raymon}')\n",
    "print(\"-------------------------\")\n",
    "print(f\"Winner: {winner}\")\n",
    "print(\"-------------------------\")\n",
    "   "
   ]
  },
  {
   "cell_type": "code",
   "execution_count": 25,
   "id": "43ac8c7d",
   "metadata": {},
   "outputs": [],
   "source": [
    "# Save as txt file\n",
    "with open('pypoll_summary.txt', 'w') as f:\n",
    "    f.write(\"Election Results\\n\"\n",
    "    \"----------------------------\\n\"\n",
    "    f'Total Votes: {total_votes}\\n'\n",
    "    \"----------------------------\\n\"\n",
    "    f'Charles Casper Stockham: {Charles_percent}% ({Charles})\\n'\n",
    "    f'Diana DeGette: {Diana_percent}% ({Diana})\\n'\n",
    "    f'Raymon Anthony Doane: {Raymon_percent}% ({Raymon}\\n'\n",
    "    \"----------------------------\\n\"\n",
    "    f\"Winner: {winner}\\n\"\n",
    "     \"----------------------------\\n\")\n"
   ]
  },
  {
   "cell_type": "code",
   "execution_count": null,
   "id": "3e0785d0",
   "metadata": {},
   "outputs": [],
   "source": []
  }
 ],
 "metadata": {
  "kernelspec": {
   "display_name": "Python 3 (ipykernel)",
   "language": "python",
   "name": "python3"
  },
  "language_info": {
   "codemirror_mode": {
    "name": "ipython",
    "version": 3
   },
   "file_extension": ".py",
   "mimetype": "text/x-python",
   "name": "python",
   "nbconvert_exporter": "python",
   "pygments_lexer": "ipython3",
   "version": "3.11.4"
  }
 },
 "nbformat": 4,
 "nbformat_minor": 5
}
